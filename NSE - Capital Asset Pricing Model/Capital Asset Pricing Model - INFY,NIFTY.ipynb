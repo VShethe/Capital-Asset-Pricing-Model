{
 "cells": [
  {
   "cell_type": "markdown",
   "id": "e290a011",
   "metadata": {},
   "source": [
    "### Capital Asset Pricing Model - INFY,NIFTY"
   ]
  },
  {
   "cell_type": "code",
   "execution_count": 1,
   "id": "e216b08d",
   "metadata": {},
   "outputs": [],
   "source": [
    "import numpy as np\n",
    "import pandas as pd\n",
    "import nsepy as nse\n",
    "import matplotlib.pyplot as plt"
   ]
  },
  {
   "cell_type": "code",
   "execution_count": 2,
   "id": "bfb0317c",
   "metadata": {},
   "outputs": [],
   "source": [
    "from nsepy import get_history\n",
    "from datetime import date"
   ]
  },
  {
   "cell_type": "code",
   "execution_count": 3,
   "id": "241ff384",
   "metadata": {},
   "outputs": [
    {
     "data": {
      "text/plain": [
       "Date\n",
       "2018-01-01    1033.55\n",
       "2018-01-02    1029.70\n",
       "2018-01-03    1021.30\n",
       "2018-01-04    1015.40\n",
       "2018-01-05    1012.00\n",
       "               ...   \n",
       "2023-03-17    1420.70\n",
       "2023-03-20    1403.65\n",
       "2023-03-21    1390.70\n",
       "2023-03-22    1389.25\n",
       "2023-03-23    1374.55\n",
       "Name: Close, Length: 1296, dtype: float64"
      ]
     },
     "execution_count": 3,
     "metadata": {},
     "output_type": "execute_result"
    }
   ],
   "source": [
    "INFY = nse.get_history(symbol = 'infy', index = False, start = date(2018, 1, 1), end = date(2023, 3, 23))['Close']\n",
    "INFY"
   ]
  },
  {
   "cell_type": "code",
   "execution_count": 4,
   "id": "7a96aead",
   "metadata": {},
   "outputs": [
    {
     "data": {
      "text/plain": [
       "Date\n",
       "2018-01-01    10435.55\n",
       "2018-01-02    10442.20\n",
       "2018-01-03    10443.20\n",
       "2018-01-04    10504.80\n",
       "2018-01-05    10558.85\n",
       "                ...   \n",
       "2023-03-17    17100.05\n",
       "2023-03-20    16988.40\n",
       "2023-03-21    17107.50\n",
       "2023-03-22    17151.90\n",
       "2023-03-23    17076.90\n",
       "Name: Close, Length: 1296, dtype: float64"
      ]
     },
     "execution_count": 4,
     "metadata": {},
     "output_type": "execute_result"
    }
   ],
   "source": [
    "NIFTY = nse.get_history(symbol = 'NIFTY', index = True, start = date(2018, 1, 1), end = date(2023, 3, 23))['Close']\n",
    "NIFTY"
   ]
  },
  {
   "cell_type": "code",
   "execution_count": 5,
   "id": "abbf02a2",
   "metadata": {},
   "outputs": [
    {
     "data": {
      "text/html": [
       "<div>\n",
       "<style scoped>\n",
       "    .dataframe tbody tr th:only-of-type {\n",
       "        vertical-align: middle;\n",
       "    }\n",
       "\n",
       "    .dataframe tbody tr th {\n",
       "        vertical-align: top;\n",
       "    }\n",
       "\n",
       "    .dataframe thead th {\n",
       "        text-align: right;\n",
       "    }\n",
       "</style>\n",
       "<table border=\"1\" class=\"dataframe\">\n",
       "  <thead>\n",
       "    <tr style=\"text-align: right;\">\n",
       "      <th></th>\n",
       "      <th>Close</th>\n",
       "      <th>Close</th>\n",
       "    </tr>\n",
       "    <tr>\n",
       "      <th>Date</th>\n",
       "      <th></th>\n",
       "      <th></th>\n",
       "    </tr>\n",
       "  </thead>\n",
       "  <tbody>\n",
       "    <tr>\n",
       "      <th>2018-01-01</th>\n",
       "      <td>1033.55</td>\n",
       "      <td>10435.55</td>\n",
       "    </tr>\n",
       "    <tr>\n",
       "      <th>2018-01-02</th>\n",
       "      <td>1029.70</td>\n",
       "      <td>10442.20</td>\n",
       "    </tr>\n",
       "    <tr>\n",
       "      <th>2018-01-03</th>\n",
       "      <td>1021.30</td>\n",
       "      <td>10443.20</td>\n",
       "    </tr>\n",
       "    <tr>\n",
       "      <th>2018-01-04</th>\n",
       "      <td>1015.40</td>\n",
       "      <td>10504.80</td>\n",
       "    </tr>\n",
       "    <tr>\n",
       "      <th>2018-01-05</th>\n",
       "      <td>1012.00</td>\n",
       "      <td>10558.85</td>\n",
       "    </tr>\n",
       "    <tr>\n",
       "      <th>...</th>\n",
       "      <td>...</td>\n",
       "      <td>...</td>\n",
       "    </tr>\n",
       "    <tr>\n",
       "      <th>2023-03-17</th>\n",
       "      <td>1420.70</td>\n",
       "      <td>17100.05</td>\n",
       "    </tr>\n",
       "    <tr>\n",
       "      <th>2023-03-20</th>\n",
       "      <td>1403.65</td>\n",
       "      <td>16988.40</td>\n",
       "    </tr>\n",
       "    <tr>\n",
       "      <th>2023-03-21</th>\n",
       "      <td>1390.70</td>\n",
       "      <td>17107.50</td>\n",
       "    </tr>\n",
       "    <tr>\n",
       "      <th>2023-03-22</th>\n",
       "      <td>1389.25</td>\n",
       "      <td>17151.90</td>\n",
       "    </tr>\n",
       "    <tr>\n",
       "      <th>2023-03-23</th>\n",
       "      <td>1374.55</td>\n",
       "      <td>17076.90</td>\n",
       "    </tr>\n",
       "  </tbody>\n",
       "</table>\n",
       "<p>1296 rows × 2 columns</p>\n",
       "</div>"
      ],
      "text/plain": [
       "              Close     Close\n",
       "Date                         \n",
       "2018-01-01  1033.55  10435.55\n",
       "2018-01-02  1029.70  10442.20\n",
       "2018-01-03  1021.30  10443.20\n",
       "2018-01-04  1015.40  10504.80\n",
       "2018-01-05  1012.00  10558.85\n",
       "...             ...       ...\n",
       "2023-03-17  1420.70  17100.05\n",
       "2023-03-20  1403.65  16988.40\n",
       "2023-03-21  1390.70  17107.50\n",
       "2023-03-22  1389.25  17151.90\n",
       "2023-03-23  1374.55  17076.90\n",
       "\n",
       "[1296 rows x 2 columns]"
      ]
     },
     "execution_count": 5,
     "metadata": {},
     "output_type": "execute_result"
    }
   ],
   "source": [
    "sec_data = pd.concat([INFY, NIFTY], axis = 1)\n",
    "sec_data"
   ]
  },
  {
   "cell_type": "code",
   "execution_count": 6,
   "id": "028a58a0",
   "metadata": {},
   "outputs": [
    {
     "data": {
      "text/html": [
       "<div>\n",
       "<style scoped>\n",
       "    .dataframe tbody tr th:only-of-type {\n",
       "        vertical-align: middle;\n",
       "    }\n",
       "\n",
       "    .dataframe tbody tr th {\n",
       "        vertical-align: top;\n",
       "    }\n",
       "\n",
       "    .dataframe thead th {\n",
       "        text-align: right;\n",
       "    }\n",
       "</style>\n",
       "<table border=\"1\" class=\"dataframe\">\n",
       "  <thead>\n",
       "    <tr style=\"text-align: right;\">\n",
       "      <th></th>\n",
       "      <th>INFY</th>\n",
       "      <th>NIFTY</th>\n",
       "    </tr>\n",
       "    <tr>\n",
       "      <th>Date</th>\n",
       "      <th></th>\n",
       "      <th></th>\n",
       "    </tr>\n",
       "  </thead>\n",
       "  <tbody>\n",
       "    <tr>\n",
       "      <th>2018-01-01</th>\n",
       "      <td>1033.55</td>\n",
       "      <td>10435.55</td>\n",
       "    </tr>\n",
       "    <tr>\n",
       "      <th>2018-01-02</th>\n",
       "      <td>1029.70</td>\n",
       "      <td>10442.20</td>\n",
       "    </tr>\n",
       "    <tr>\n",
       "      <th>2018-01-03</th>\n",
       "      <td>1021.30</td>\n",
       "      <td>10443.20</td>\n",
       "    </tr>\n",
       "    <tr>\n",
       "      <th>2018-01-04</th>\n",
       "      <td>1015.40</td>\n",
       "      <td>10504.80</td>\n",
       "    </tr>\n",
       "    <tr>\n",
       "      <th>2018-01-05</th>\n",
       "      <td>1012.00</td>\n",
       "      <td>10558.85</td>\n",
       "    </tr>\n",
       "    <tr>\n",
       "      <th>...</th>\n",
       "      <td>...</td>\n",
       "      <td>...</td>\n",
       "    </tr>\n",
       "    <tr>\n",
       "      <th>2023-03-17</th>\n",
       "      <td>1420.70</td>\n",
       "      <td>17100.05</td>\n",
       "    </tr>\n",
       "    <tr>\n",
       "      <th>2023-03-20</th>\n",
       "      <td>1403.65</td>\n",
       "      <td>16988.40</td>\n",
       "    </tr>\n",
       "    <tr>\n",
       "      <th>2023-03-21</th>\n",
       "      <td>1390.70</td>\n",
       "      <td>17107.50</td>\n",
       "    </tr>\n",
       "    <tr>\n",
       "      <th>2023-03-22</th>\n",
       "      <td>1389.25</td>\n",
       "      <td>17151.90</td>\n",
       "    </tr>\n",
       "    <tr>\n",
       "      <th>2023-03-23</th>\n",
       "      <td>1374.55</td>\n",
       "      <td>17076.90</td>\n",
       "    </tr>\n",
       "  </tbody>\n",
       "</table>\n",
       "<p>1296 rows × 2 columns</p>\n",
       "</div>"
      ],
      "text/plain": [
       "               INFY     NIFTY\n",
       "Date                         \n",
       "2018-01-01  1033.55  10435.55\n",
       "2018-01-02  1029.70  10442.20\n",
       "2018-01-03  1021.30  10443.20\n",
       "2018-01-04  1015.40  10504.80\n",
       "2018-01-05  1012.00  10558.85\n",
       "...             ...       ...\n",
       "2023-03-17  1420.70  17100.05\n",
       "2023-03-20  1403.65  16988.40\n",
       "2023-03-21  1390.70  17107.50\n",
       "2023-03-22  1389.25  17151.90\n",
       "2023-03-23  1374.55  17076.90\n",
       "\n",
       "[1296 rows x 2 columns]"
      ]
     },
     "execution_count": 6,
     "metadata": {},
     "output_type": "execute_result"
    }
   ],
   "source": [
    "sec_data.columns = ['INFY', 'NIFTY']\n",
    "sec_data"
   ]
  },
  {
   "cell_type": "code",
   "execution_count": 7,
   "id": "70d7b064",
   "metadata": {
    "scrolled": true
   },
   "outputs": [
    {
     "data": {
      "text/html": [
       "<div>\n",
       "<style scoped>\n",
       "    .dataframe tbody tr th:only-of-type {\n",
       "        vertical-align: middle;\n",
       "    }\n",
       "\n",
       "    .dataframe tbody tr th {\n",
       "        vertical-align: top;\n",
       "    }\n",
       "\n",
       "    .dataframe thead th {\n",
       "        text-align: right;\n",
       "    }\n",
       "</style>\n",
       "<table border=\"1\" class=\"dataframe\">\n",
       "  <thead>\n",
       "    <tr style=\"text-align: right;\">\n",
       "      <th></th>\n",
       "      <th>INFY</th>\n",
       "      <th>NIFTY</th>\n",
       "    </tr>\n",
       "    <tr>\n",
       "      <th>Date</th>\n",
       "      <th></th>\n",
       "      <th></th>\n",
       "    </tr>\n",
       "  </thead>\n",
       "  <tbody>\n",
       "    <tr>\n",
       "      <th>2018-01-01</th>\n",
       "      <td>NaN</td>\n",
       "      <td>NaN</td>\n",
       "    </tr>\n",
       "    <tr>\n",
       "      <th>2018-01-02</th>\n",
       "      <td>-0.003732</td>\n",
       "      <td>0.000637</td>\n",
       "    </tr>\n",
       "    <tr>\n",
       "      <th>2018-01-03</th>\n",
       "      <td>-0.008191</td>\n",
       "      <td>0.000096</td>\n",
       "    </tr>\n",
       "    <tr>\n",
       "      <th>2018-01-04</th>\n",
       "      <td>-0.005794</td>\n",
       "      <td>0.005881</td>\n",
       "    </tr>\n",
       "    <tr>\n",
       "      <th>2018-01-05</th>\n",
       "      <td>-0.003354</td>\n",
       "      <td>0.005132</td>\n",
       "    </tr>\n",
       "    <tr>\n",
       "      <th>...</th>\n",
       "      <td>...</td>\n",
       "      <td>...</td>\n",
       "    </tr>\n",
       "    <tr>\n",
       "      <th>2023-03-17</th>\n",
       "      <td>0.011753</td>\n",
       "      <td>0.006715</td>\n",
       "    </tr>\n",
       "    <tr>\n",
       "      <th>2023-03-20</th>\n",
       "      <td>-0.012074</td>\n",
       "      <td>-0.006551</td>\n",
       "    </tr>\n",
       "    <tr>\n",
       "      <th>2023-03-21</th>\n",
       "      <td>-0.009269</td>\n",
       "      <td>0.006986</td>\n",
       "    </tr>\n",
       "    <tr>\n",
       "      <th>2023-03-22</th>\n",
       "      <td>-0.001043</td>\n",
       "      <td>0.002592</td>\n",
       "    </tr>\n",
       "    <tr>\n",
       "      <th>2023-03-23</th>\n",
       "      <td>-0.010638</td>\n",
       "      <td>-0.004382</td>\n",
       "    </tr>\n",
       "  </tbody>\n",
       "</table>\n",
       "<p>1296 rows × 2 columns</p>\n",
       "</div>"
      ],
      "text/plain": [
       "                INFY     NIFTY\n",
       "Date                          \n",
       "2018-01-01       NaN       NaN\n",
       "2018-01-02 -0.003732  0.000637\n",
       "2018-01-03 -0.008191  0.000096\n",
       "2018-01-04 -0.005794  0.005881\n",
       "2018-01-05 -0.003354  0.005132\n",
       "...              ...       ...\n",
       "2023-03-17  0.011753  0.006715\n",
       "2023-03-20 -0.012074 -0.006551\n",
       "2023-03-21 -0.009269  0.006986\n",
       "2023-03-22 -0.001043  0.002592\n",
       "2023-03-23 -0.010638 -0.004382\n",
       "\n",
       "[1296 rows x 2 columns]"
      ]
     },
     "execution_count": 7,
     "metadata": {},
     "output_type": "execute_result"
    }
   ],
   "source": [
    "sec_returns = np.log(sec_data/sec_data.shift(1))\n",
    "sec_returns"
   ]
  },
  {
   "cell_type": "code",
   "execution_count": 8,
   "id": "7a37434d",
   "metadata": {
    "scrolled": true
   },
   "outputs": [
    {
     "data": {
      "text/html": [
       "<div>\n",
       "<style scoped>\n",
       "    .dataframe tbody tr th:only-of-type {\n",
       "        vertical-align: middle;\n",
       "    }\n",
       "\n",
       "    .dataframe tbody tr th {\n",
       "        vertical-align: top;\n",
       "    }\n",
       "\n",
       "    .dataframe thead th {\n",
       "        text-align: right;\n",
       "    }\n",
       "</style>\n",
       "<table border=\"1\" class=\"dataframe\">\n",
       "  <thead>\n",
       "    <tr style=\"text-align: right;\">\n",
       "      <th></th>\n",
       "      <th>INFY</th>\n",
       "      <th>NIFTY</th>\n",
       "    </tr>\n",
       "  </thead>\n",
       "  <tbody>\n",
       "    <tr>\n",
       "      <th>INFY</th>\n",
       "      <td>0.167295</td>\n",
       "      <td>0.030587</td>\n",
       "    </tr>\n",
       "    <tr>\n",
       "      <th>NIFTY</th>\n",
       "      <td>0.030587</td>\n",
       "      <td>0.036924</td>\n",
       "    </tr>\n",
       "  </tbody>\n",
       "</table>\n",
       "</div>"
      ],
      "text/plain": [
       "           INFY     NIFTY\n",
       "INFY   0.167295  0.030587\n",
       "NIFTY  0.030587  0.036924"
      ]
     },
     "execution_count": 8,
     "metadata": {},
     "output_type": "execute_result"
    }
   ],
   "source": [
    "cov = sec_returns.cov()*250\n",
    "cov"
   ]
  },
  {
   "cell_type": "code",
   "execution_count": 9,
   "id": "377b3a4a",
   "metadata": {},
   "outputs": [
    {
     "data": {
      "text/plain": [
       "0.030586984998109336"
      ]
     },
     "execution_count": 9,
     "metadata": {},
     "output_type": "execute_result"
    }
   ],
   "source": [
    "cov_with_market = cov.iloc[0,1]\n",
    "cov_with_market"
   ]
  },
  {
   "cell_type": "code",
   "execution_count": 11,
   "id": "c342f061",
   "metadata": {},
   "outputs": [
    {
     "data": {
      "text/plain": [
       "0.03692376322070834"
      ]
     },
     "execution_count": 11,
     "metadata": {},
     "output_type": "execute_result"
    }
   ],
   "source": [
    "market_var = sec_returns['NIFTY'].var()*250\n",
    "market_var"
   ]
  },
  {
   "cell_type": "markdown",
   "id": "9697dfea",
   "metadata": {},
   "source": [
    "### Beta"
   ]
  },
  {
   "cell_type": "markdown",
   "id": "cd06e328",
   "metadata": {},
   "source": [
    "### $$ \n",
    "\\beta_{pg} = \\frac{\\sigma_{pg,m}}{\\sigma_{m}^2}\n",
    "$$"
   ]
  },
  {
   "cell_type": "code",
   "execution_count": 12,
   "id": "b63d08a7",
   "metadata": {},
   "outputs": [
    {
     "data": {
      "text/plain": [
       "0.8283821130386547"
      ]
     },
     "execution_count": 12,
     "metadata": {},
     "output_type": "execute_result"
    }
   ],
   "source": [
    "INFY_beta = cov_with_market/market_var\n",
    "INFY_beta"
   ]
  },
  {
   "cell_type": "markdown",
   "id": "0af09ea0",
   "metadata": {},
   "source": [
    "### Calculating Expected Return of INFY (CAPM)"
   ]
  },
  {
   "cell_type": "code",
   "execution_count": 18,
   "id": "fca89e56",
   "metadata": {
    "scrolled": true
   },
   "outputs": [
    {
     "data": {
      "text/plain": [
       "0.1492015795986611"
      ]
     },
     "execution_count": 18,
     "metadata": {},
     "output_type": "execute_result"
    }
   ],
   "source": [
    "INFY_ER = 0.0686 + INFY_beta * 0.0973\n",
    "INFY_ER"
   ]
  },
  {
   "cell_type": "markdown",
   "id": "fd48451c",
   "metadata": {},
   "source": [
    "https://pages.stern.nyu.edu/~adamodar/New_Home_Page/datafile/ctryprem.html"
   ]
  },
  {
   "cell_type": "markdown",
   "id": "05d387fe",
   "metadata": {},
   "source": [
    "### Sharpe Ratio"
   ]
  },
  {
   "cell_type": "code",
   "execution_count": 21,
   "id": "3569140a",
   "metadata": {},
   "outputs": [],
   "source": [
    "Sharpe = (INFY_ER - 0.0686)/(sec_returns['INFY'].std()*250**0.5)"
   ]
  },
  {
   "cell_type": "code",
   "execution_count": 22,
   "id": "5bf1ff99",
   "metadata": {},
   "outputs": [
    {
     "data": {
      "text/plain": [
       "0.19706169062300039"
      ]
     },
     "execution_count": 22,
     "metadata": {},
     "output_type": "execute_result"
    }
   ],
   "source": [
    "Sharpe"
   ]
  },
  {
   "cell_type": "code",
   "execution_count": null,
   "id": "c01b8a46",
   "metadata": {},
   "outputs": [],
   "source": []
  },
  {
   "cell_type": "code",
   "execution_count": null,
   "id": "e586eb35",
   "metadata": {},
   "outputs": [],
   "source": []
  }
 ],
 "metadata": {
  "kernelspec": {
   "display_name": "Python 3 (ipykernel)",
   "language": "python",
   "name": "python3"
  },
  "language_info": {
   "codemirror_mode": {
    "name": "ipython",
    "version": 3
   },
   "file_extension": ".py",
   "mimetype": "text/x-python",
   "name": "python",
   "nbconvert_exporter": "python",
   "pygments_lexer": "ipython3",
   "version": "3.9.13"
  }
 },
 "nbformat": 4,
 "nbformat_minor": 5
}
