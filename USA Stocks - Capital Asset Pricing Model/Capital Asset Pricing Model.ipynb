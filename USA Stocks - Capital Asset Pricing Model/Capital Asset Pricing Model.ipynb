{
 "cells": [
  {
   "cell_type": "markdown",
   "id": "34f76817",
   "metadata": {},
   "source": [
    "### Capital Asset Pricing Model"
   ]
  },
  {
   "cell_type": "code",
   "execution_count": 1,
   "id": "7f275a43",
   "metadata": {},
   "outputs": [],
   "source": [
    "import numpy as np\n",
    "import pandas as pd\n",
    "import matplotlib.pyplot as plt\n",
    "from datetime import datetime\n",
    "from pandas_datareader import data as wb"
   ]
  },
  {
   "cell_type": "code",
   "execution_count": 2,
   "id": "d3460b8f",
   "metadata": {},
   "outputs": [],
   "source": [
    "from iexfinance.stocks import Stock, get_historical_data\n",
    "\n",
    "start = datetime(2018, 1, 1)\n",
    "end = datetime(2023, 3, 23)\n",
    "\n",
    "api_key = 'pk_6083fdda34d8496a8401a87232578e3f'"
   ]
  },
  {
   "cell_type": "code",
   "execution_count": 9,
   "id": "15542184",
   "metadata": {},
   "outputs": [],
   "source": [
    "tickers = ['PG', 'IVV']\n",
    "sec_data = pd.DataFrame()\n",
    "for t in tickers:\n",
    "    sec_data[t] = get_historical_data(t, start, end, output_format = 'pandas', token=api_key)['close']"
   ]
  },
  {
   "cell_type": "code",
   "execution_count": 4,
   "id": "7d3e7fab",
   "metadata": {
    "scrolled": true
   },
   "outputs": [
    {
     "data": {
      "text/html": [
       "<div>\n",
       "<style scoped>\n",
       "    .dataframe tbody tr th:only-of-type {\n",
       "        vertical-align: middle;\n",
       "    }\n",
       "\n",
       "    .dataframe tbody tr th {\n",
       "        vertical-align: top;\n",
       "    }\n",
       "\n",
       "    .dataframe thead th {\n",
       "        text-align: right;\n",
       "    }\n",
       "</style>\n",
       "<table border=\"1\" class=\"dataframe\">\n",
       "  <thead>\n",
       "    <tr style=\"text-align: right;\">\n",
       "      <th></th>\n",
       "      <th>PG</th>\n",
       "      <th>IVV</th>\n",
       "    </tr>\n",
       "  </thead>\n",
       "  <tbody>\n",
       "    <tr>\n",
       "      <th>2018-01-02</th>\n",
       "      <td>90.65</td>\n",
       "      <td>270.85</td>\n",
       "    </tr>\n",
       "    <tr>\n",
       "      <th>2018-01-03</th>\n",
       "      <td>90.54</td>\n",
       "      <td>272.42</td>\n",
       "    </tr>\n",
       "    <tr>\n",
       "      <th>2018-01-04</th>\n",
       "      <td>91.18</td>\n",
       "      <td>273.60</td>\n",
       "    </tr>\n",
       "    <tr>\n",
       "      <th>2018-01-05</th>\n",
       "      <td>91.24</td>\n",
       "      <td>275.33</td>\n",
       "    </tr>\n",
       "    <tr>\n",
       "      <th>2018-01-08</th>\n",
       "      <td>91.72</td>\n",
       "      <td>275.94</td>\n",
       "    </tr>\n",
       "    <tr>\n",
       "      <th>...</th>\n",
       "      <td>...</td>\n",
       "      <td>...</td>\n",
       "    </tr>\n",
       "    <tr>\n",
       "      <th>2023-03-17</th>\n",
       "      <td>142.93</td>\n",
       "      <td>393.17</td>\n",
       "    </tr>\n",
       "    <tr>\n",
       "      <th>2023-03-20</th>\n",
       "      <td>145.13</td>\n",
       "      <td>397.07</td>\n",
       "    </tr>\n",
       "    <tr>\n",
       "      <th>2023-03-21</th>\n",
       "      <td>144.08</td>\n",
       "      <td>402.23</td>\n",
       "    </tr>\n",
       "    <tr>\n",
       "      <th>2023-03-22</th>\n",
       "      <td>143.99</td>\n",
       "      <td>395.49</td>\n",
       "    </tr>\n",
       "    <tr>\n",
       "      <th>2023-03-23</th>\n",
       "      <td>143.79</td>\n",
       "      <td>394.84</td>\n",
       "    </tr>\n",
       "  </tbody>\n",
       "</table>\n",
       "<p>1315 rows × 2 columns</p>\n",
       "</div>"
      ],
      "text/plain": [
       "                PG     IVV\n",
       "2018-01-02   90.65  270.85\n",
       "2018-01-03   90.54  272.42\n",
       "2018-01-04   91.18  273.60\n",
       "2018-01-05   91.24  275.33\n",
       "2018-01-08   91.72  275.94\n",
       "...            ...     ...\n",
       "2023-03-17  142.93  393.17\n",
       "2023-03-20  145.13  397.07\n",
       "2023-03-21  144.08  402.23\n",
       "2023-03-22  143.99  395.49\n",
       "2023-03-23  143.79  394.84\n",
       "\n",
       "[1315 rows x 2 columns]"
      ]
     },
     "execution_count": 4,
     "metadata": {},
     "output_type": "execute_result"
    }
   ],
   "source": [
    "sec_data = sec_data.astype('float64')\n",
    "sec_data"
   ]
  },
  {
   "cell_type": "code",
   "execution_count": 5,
   "id": "70d7b064",
   "metadata": {
    "scrolled": true
   },
   "outputs": [
    {
     "data": {
      "text/html": [
       "<div>\n",
       "<style scoped>\n",
       "    .dataframe tbody tr th:only-of-type {\n",
       "        vertical-align: middle;\n",
       "    }\n",
       "\n",
       "    .dataframe tbody tr th {\n",
       "        vertical-align: top;\n",
       "    }\n",
       "\n",
       "    .dataframe thead th {\n",
       "        text-align: right;\n",
       "    }\n",
       "</style>\n",
       "<table border=\"1\" class=\"dataframe\">\n",
       "  <thead>\n",
       "    <tr style=\"text-align: right;\">\n",
       "      <th></th>\n",
       "      <th>PG</th>\n",
       "      <th>IVV</th>\n",
       "    </tr>\n",
       "  </thead>\n",
       "  <tbody>\n",
       "    <tr>\n",
       "      <th>2018-01-02</th>\n",
       "      <td>NaN</td>\n",
       "      <td>NaN</td>\n",
       "    </tr>\n",
       "    <tr>\n",
       "      <th>2018-01-03</th>\n",
       "      <td>-0.001214</td>\n",
       "      <td>0.005780</td>\n",
       "    </tr>\n",
       "    <tr>\n",
       "      <th>2018-01-04</th>\n",
       "      <td>0.007044</td>\n",
       "      <td>0.004322</td>\n",
       "    </tr>\n",
       "    <tr>\n",
       "      <th>2018-01-05</th>\n",
       "      <td>0.000658</td>\n",
       "      <td>0.006303</td>\n",
       "    </tr>\n",
       "    <tr>\n",
       "      <th>2018-01-08</th>\n",
       "      <td>0.005247</td>\n",
       "      <td>0.002213</td>\n",
       "    </tr>\n",
       "    <tr>\n",
       "      <th>...</th>\n",
       "      <td>...</td>\n",
       "      <td>...</td>\n",
       "    </tr>\n",
       "    <tr>\n",
       "      <th>2023-03-17</th>\n",
       "      <td>0.000280</td>\n",
       "      <td>-0.011933</td>\n",
       "    </tr>\n",
       "    <tr>\n",
       "      <th>2023-03-20</th>\n",
       "      <td>0.015275</td>\n",
       "      <td>0.009870</td>\n",
       "    </tr>\n",
       "    <tr>\n",
       "      <th>2023-03-21</th>\n",
       "      <td>-0.007261</td>\n",
       "      <td>0.012911</td>\n",
       "    </tr>\n",
       "    <tr>\n",
       "      <th>2023-03-22</th>\n",
       "      <td>-0.000625</td>\n",
       "      <td>-0.016899</td>\n",
       "    </tr>\n",
       "    <tr>\n",
       "      <th>2023-03-23</th>\n",
       "      <td>-0.001390</td>\n",
       "      <td>-0.001645</td>\n",
       "    </tr>\n",
       "  </tbody>\n",
       "</table>\n",
       "<p>1315 rows × 2 columns</p>\n",
       "</div>"
      ],
      "text/plain": [
       "                  PG       IVV\n",
       "2018-01-02       NaN       NaN\n",
       "2018-01-03 -0.001214  0.005780\n",
       "2018-01-04  0.007044  0.004322\n",
       "2018-01-05  0.000658  0.006303\n",
       "2018-01-08  0.005247  0.002213\n",
       "...              ...       ...\n",
       "2023-03-17  0.000280 -0.011933\n",
       "2023-03-20  0.015275  0.009870\n",
       "2023-03-21 -0.007261  0.012911\n",
       "2023-03-22 -0.000625 -0.016899\n",
       "2023-03-23 -0.001390 -0.001645\n",
       "\n",
       "[1315 rows x 2 columns]"
      ]
     },
     "execution_count": 5,
     "metadata": {},
     "output_type": "execute_result"
    }
   ],
   "source": [
    "sec_returns = np.log(sec_data/sec_data.shift(1))\n",
    "sec_returns"
   ]
  },
  {
   "cell_type": "code",
   "execution_count": 6,
   "id": "7a37434d",
   "metadata": {},
   "outputs": [
    {
     "data": {
      "text/html": [
       "<div>\n",
       "<style scoped>\n",
       "    .dataframe tbody tr th:only-of-type {\n",
       "        vertical-align: middle;\n",
       "    }\n",
       "\n",
       "    .dataframe tbody tr th {\n",
       "        vertical-align: top;\n",
       "    }\n",
       "\n",
       "    .dataframe thead th {\n",
       "        text-align: right;\n",
       "    }\n",
       "</style>\n",
       "<table border=\"1\" class=\"dataframe\">\n",
       "  <thead>\n",
       "    <tr style=\"text-align: right;\">\n",
       "      <th></th>\n",
       "      <th>PG</th>\n",
       "      <th>IVV</th>\n",
       "    </tr>\n",
       "  </thead>\n",
       "  <tbody>\n",
       "    <tr>\n",
       "      <th>PG</th>\n",
       "      <td>0.046865</td>\n",
       "      <td>0.027255</td>\n",
       "    </tr>\n",
       "    <tr>\n",
       "      <th>IVV</th>\n",
       "      <td>0.027255</td>\n",
       "      <td>0.047270</td>\n",
       "    </tr>\n",
       "  </tbody>\n",
       "</table>\n",
       "</div>"
      ],
      "text/plain": [
       "           PG       IVV\n",
       "PG   0.046865  0.027255\n",
       "IVV  0.027255  0.047270"
      ]
     },
     "execution_count": 6,
     "metadata": {},
     "output_type": "execute_result"
    }
   ],
   "source": [
    "cov = sec_returns.cov()*250\n",
    "cov"
   ]
  },
  {
   "cell_type": "code",
   "execution_count": 7,
   "id": "377b3a4a",
   "metadata": {},
   "outputs": [
    {
     "data": {
      "text/plain": [
       "0.027254514677948163"
      ]
     },
     "execution_count": 7,
     "metadata": {},
     "output_type": "execute_result"
    }
   ],
   "source": [
    "cov_with_market = cov.iloc[0,1]\n",
    "cov_with_market"
   ]
  },
  {
   "cell_type": "code",
   "execution_count": 8,
   "id": "c342f061",
   "metadata": {},
   "outputs": [
    {
     "data": {
      "text/plain": [
       "0.04727006462806297"
      ]
     },
     "execution_count": 8,
     "metadata": {},
     "output_type": "execute_result"
    }
   ],
   "source": [
    "market_var = sec_returns['IVV'].var()*250\n",
    "market_var"
   ]
  },
  {
   "cell_type": "markdown",
   "id": "9697dfea",
   "metadata": {},
   "source": [
    "### Beta"
   ]
  },
  {
   "cell_type": "markdown",
   "id": "cd06e328",
   "metadata": {},
   "source": [
    "### $$ \n",
    "\\beta_{pg} = \\frac{\\sigma_{pg,m}}{\\sigma_{m}^2}\n",
    "$$"
   ]
  },
  {
   "cell_type": "code",
   "execution_count": 10,
   "id": "b63d08a7",
   "metadata": {},
   "outputs": [
    {
     "data": {
      "text/plain": [
       "0.5765702859176521"
      ]
     },
     "execution_count": 10,
     "metadata": {},
     "output_type": "execute_result"
    }
   ],
   "source": [
    "PG_beta = cov_with_market/market_var\n",
    "PG_beta"
   ]
  },
  {
   "cell_type": "markdown",
   "id": "0af09ea0",
   "metadata": {},
   "source": [
    "### Calculating Expected Return of P&G (CAPM)"
   ]
  },
  {
   "cell_type": "code",
   "execution_count": 15,
   "id": "fca89e56",
   "metadata": {},
   "outputs": [
    {
     "data": {
      "text/plain": [
       "0.06934827498350854"
      ]
     },
     "execution_count": 15,
     "metadata": {},
     "output_type": "execute_result"
    }
   ],
   "source": [
    "PG_ER = 0.0351 + PG_beta * 0.0594\n",
    "PG_ER"
   ]
  },
  {
   "cell_type": "markdown",
   "id": "05d387fe",
   "metadata": {},
   "source": [
    "### Sharpe Ratio"
   ]
  },
  {
   "cell_type": "code",
   "execution_count": 18,
   "id": "3569140a",
   "metadata": {},
   "outputs": [],
   "source": [
    "Sharpe = (PG_ER - 0.0351)/(sec_returns['PG'].std()*250**0.5)"
   ]
  },
  {
   "cell_type": "code",
   "execution_count": 19,
   "id": "c272126f",
   "metadata": {
    "scrolled": true
   },
   "outputs": [
    {
     "data": {
      "text/plain": [
       "0.15820263045714866"
      ]
     },
     "execution_count": 19,
     "metadata": {},
     "output_type": "execute_result"
    }
   ],
   "source": [
    "Sharpe"
   ]
  },
  {
   "cell_type": "code",
   "execution_count": null,
   "id": "0a2fe0b6",
   "metadata": {},
   "outputs": [],
   "source": []
  }
 ],
 "metadata": {
  "kernelspec": {
   "display_name": "Python 3 (ipykernel)",
   "language": "python",
   "name": "python3"
  },
  "language_info": {
   "codemirror_mode": {
    "name": "ipython",
    "version": 3
   },
   "file_extension": ".py",
   "mimetype": "text/x-python",
   "name": "python",
   "nbconvert_exporter": "python",
   "pygments_lexer": "ipython3",
   "version": "3.9.13"
  }
 },
 "nbformat": 4,
 "nbformat_minor": 5
}
